{
 "cells": [
  {
   "cell_type": "markdown",
   "metadata": {
    "collapsed": false,
    "jupyter": {
     "outputs_hidden": false
    }
   },
   "source": [
    "# Constant Interval\n",
    "\n",
    "We will choose a fixed parameter a > 0 for this strategy. In the beginning, we will provide liquidity in a symmetric interval around the current price. This interval will never be adjusted. More specifically, we will choose the interval [p − a, p + a], where p is the price at the beginning.\n",
    "For the USDC-ETH pool, we will choose a ∈ [10, 40000], which means that the size is between 10 and 40000 basis points, or 0.1% and 400%. It does not make sense to choose another a because, at any time, the price is always in [p−a,p+a]."
   ]
  },
  {
   "cell_type": "markdown",
   "metadata": {
    "collapsed": false,
    "jupyter": {
     "outputs_hidden": false
    }
   },
   "source": [
    "Import code dependencies"
   ]
  },
  {
   "cell_type": "code",
   "metadata": {
    "collapsed": false,
    "jupyter": {
     "outputs_hidden": false
    },
    "ExecuteTime": {
     "end_time": "2024-07-22T08:21:14.045985Z",
     "start_time": "2024-07-22T08:21:14.041917Z"
    }
   },
   "source": [
    "from typing import List\n",
    "\n",
    "import pandas as pd\n",
    "from matplotlib.pylab import plt\n",
    "import matplotlib.dates as mdates\n",
    "\n",
    "from demeter import MarketInfo\n",
    "from demeter.broker import AccountStatus\n",
    "from demeter.result import performance_metrics, round_results"
   ],
   "execution_count": 47,
   "outputs": []
  },
  {
   "cell_type": "markdown",
   "metadata": {
    "collapsed": false,
    "jupyter": {
     "outputs_hidden": false
    }
   },
   "source": [
    "Set matplotlib to show formatted account status"
   ]
  },
  {
   "cell_type": "code",
   "metadata": {
    "collapsed": false,
    "jupyter": {
     "outputs_hidden": false
    },
    "ExecuteTime": {
     "end_time": "2024-07-22T08:21:14.108904Z",
     "start_time": "2024-07-22T08:21:14.104051Z"
    }
   },
   "source": [
    "def plotter(account_status_list: List[AccountStatus]):\n",
    "    net_value_ts = [status.net_value for status in account_status_list]\n",
    "    time_ts = [status.timestamp for status in account_status_list]\n",
    "    plt.plot(time_ts, net_value_ts)\n",
    "    plt.show()"
   ],
   "execution_count": 48,
   "outputs": []
  },
  {
   "cell_type": "markdown",
   "metadata": {
    "collapsed": false,
    "jupyter": {
     "outputs_hidden": false
    }
   },
   "source": [
    "Make plot about price and account value / position net value"
   ]
  },
  {
   "cell_type": "code",
   "metadata": {
    "collapsed": false,
    "jupyter": {
     "outputs_hidden": false
    },
    "ExecuteTime": {
     "end_time": "2024-07-22T08:21:14.117596Z",
     "start_time": "2024-07-22T08:21:14.111930Z"
    }
   },
   "source": [
    "def plot_position_return_decomposition(account_status: pd.DataFrame, price: pd.Series, market: MarketInfo):\n",
    "    fig, value_ax = plt.subplots()\n",
    "    day = mdates.DayLocator(interval=2)\n",
    "\n",
    "    price_ax = value_ax.twinx()\n",
    "    price_ax.xaxis.set_major_locator(day)\n",
    "    price_ax.xaxis.set_major_formatter(mdates.DateFormatter('%m-%d'))\n",
    "    value_ax.set_xlabel('time')\n",
    "    value_ax.set_ylabel('value', color='g')\n",
    "    price_ax.set_ylabel('price', color='b')\n",
    "\n",
    "    net_value_ts = list(account_status.net_value)\n",
    "    time_ts = list(account_status.index)\n",
    "    price_ts = list(price)\n",
    "\n",
    "    value_in_position = account_status[market.name][\"net_value\"]\n",
    "    value_in_account = account_status[\"tokens\"][\"USDC\"] + account_status[\"tokens\"][\"ETH\"] * price\n",
    "\n",
    "    value_ax.plot(time_ts, net_value_ts, 'g-', label=\"net value\")\n",
    "    value_ax.plot(time_ts, value_in_position, 'r-', label=\"value in get_position\")\n",
    "    value_ax.plot(time_ts, value_in_account, 'b-', label=\"value in broker account\")\n",
    "    price_ax.plot(time_ts, price_ts, 'y-', label=\"price\")\n",
    "    fig.legend()\n",
    "    fig.show()"
   ],
   "execution_count": 49,
   "outputs": []
  },
  {
   "cell_type": "markdown",
   "metadata": {
    "collapsed": false,
    "jupyter": {
     "outputs_hidden": false
    }
   },
   "source": [
    "Add dependence about run Actuator"
   ]
  },
  {
   "cell_type": "code",
   "metadata": {
    "collapsed": false,
    "jupyter": {
     "outputs_hidden": false
    },
    "ExecuteTime": {
     "end_time": "2024-07-22T08:21:14.123976Z",
     "start_time": "2024-07-22T08:21:14.119628Z"
    }
   },
   "source": [
    "from datetime import date\n",
    "import pandas as pd\n",
    "from demeter import Actuator, MarketInfo, TokenInfo, Strategy, ChainType\n",
    "from demeter.uniswap import UniV3Pool, UniLpMarket"
   ],
   "execution_count": 50,
   "outputs": []
  },
  {
   "cell_type": "markdown",
   "metadata": {
    "collapsed": false,
    "jupyter": {
     "outputs_hidden": false
    }
   },
   "source": [
    "Set pandas output format"
   ]
  },
  {
   "cell_type": "code",
   "metadata": {
    "collapsed": false,
    "jupyter": {
     "outputs_hidden": false
    },
    "ExecuteTime": {
     "end_time": "2024-07-22T08:21:14.132821Z",
     "start_time": "2024-07-22T08:21:14.128985Z"
    }
   },
   "source": [
    "pd.options.display.max_columns = None\n",
    "pd.set_option(\"display.width\", 5000)"
   ],
   "execution_count": 51,
   "outputs": []
  },
  {
   "cell_type": "markdown",
   "metadata": {
    "collapsed": false,
    "jupyter": {
     "outputs_hidden": false
    }
   },
   "source": [
    "Custom Constant Interval strategy with code to add liquidity at constant interval around current price."
   ]
  },
  {
   "cell_type": "code",
   "metadata": {
    "collapsed": false,
    "jupyter": {
     "outputs_hidden": false
    },
    "ExecuteTime": {
     "end_time": "2024-07-22T08:21:14.182705Z",
     "start_time": "2024-07-22T08:21:14.176836Z"
    }
   },
   "source": [
    "class ConstantIntervalStrategy(Strategy):\n",
    "    def __init__(self, a=100):\n",
    "        super().__init__()\n",
    "        self.a = a\n",
    "\n",
    "    def initialize(self):\n",
    "        market: UniLpMarket = self.markets[market_key]\n",
    "        init_price = market.market_status.data.price\n",
    "        market.even_rebalance(init_price)  # rebalance all reserve token#\n",
    "        # new_position(self, baseToken, quoteToken, usd_price_a, usd_price_b):\n",
    "        # what is  base/quote \"https://corporatefinanceinstitute.com/resources/knowledge/economics/currency-pair/\"\n",
    "        market.add_liquidity(init_price - self.a, init_price + self.a)\n",
    "        super().__init__()"
   ],
   "execution_count": 52,
   "outputs": []
  },
  {
   "cell_type": "markdown",
   "metadata": {
    "collapsed": false,
    "jupyter": {
     "outputs_hidden": false
    }
   },
   "source": [
    "Main logic to run Actuator, init two token and market with key \"market1\""
   ]
  },
  {
   "cell_type": "code",
   "metadata": {
    "collapsed": false,
    "jupyter": {
     "outputs_hidden": false
    },
    "ExecuteTime": {
     "end_time": "2024-07-22T08:21:14.501407Z",
     "start_time": "2024-07-22T08:21:14.191740Z"
    }
   },
   "source": [
    "usdc = TokenInfo(name=\"usdc\", decimal=6)  # declare  token0\n",
    "eth = TokenInfo(name=\"eth\", decimal=18)  # declare token1\n",
    "pool = UniV3Pool(usdc, eth, 0.05, usdc)  # declare pool\n",
    "market_key = MarketInfo(\"market1\")\n",
    "\n",
    "actuator = Actuator()  # declare actuator\n",
    "broker = actuator.broker\n",
    "market = UniLpMarket(market_key, pool)\n",
    "\n",
    "broker.add_market(market)\n",
    "broker.set_balance(usdc, 2000)\n",
    "broker.set_balance(eth, 0)\n",
    "\n",
    "actuator.strategy = ConstantIntervalStrategy(200)\n",
    "\n",
    "market.data_path = \"../data\"\n",
    "market.load_data(ChainType.polygon.name, \"0x45dda9cb7c25131df268515131f647d726f50608\", date(2023, 8, 13),\n",
    "                 date(2023, 8, 17))\n",
    "actuator.set_price(market.get_price_from_data())\n",
    "# actuator.run()  # run test"
   ],
   "execution_count": 53,
   "outputs": []
  },
  {
   "cell_type": "markdown",
   "metadata": {
    "collapsed": false,
    "jupyter": {
     "outputs_hidden": false
    }
   },
   "source": [
    "Run actuator with evaluators and save result to files"
   ]
  },
  {
   "cell_type": "code",
   "metadata": {
    "collapsed": false,
    "jupyter": {
     "outputs_hidden": false
    },
    "ExecuteTime": {
     "end_time": "2024-07-22T08:21:17.372821Z",
     "start_time": "2024-07-22T08:21:14.503418Z"
    }
   },
   "source": [
    "actuator.run()\n",
    "print(round_results(performance_metrics(actuator.account_status_df[\"net_value\"], benchmark=actuator.account_status_df[\"price\"][\"ETH\"])))\n",
    "\n",
    "actuator.save_result(\n",
    "    path=\"./result\",  # save path\n",
    "    account=True,  # save account status list as a csv file\n",
    "    actions=True,  # save actions as a json file and a pickle file\n",
    ")"
   ],
   "execution_count": 54,
   "outputs": []
  },
  {
   "cell_type": "code",
   "metadata": {
    "collapsed": false,
    "jupyter": {
     "outputs_hidden": false
    },
    "ExecuteTime": {
     "end_time": "2024-07-22T08:21:17.844693Z",
     "start_time": "2024-07-22T08:21:17.380860Z"
    }
   },
   "source": "plot_position_return_decomposition(actuator.account_status_df, actuator.token_prices[eth.name], market_key)",
   "execution_count": 55,
   "outputs": []
  }
 ],
 "metadata": {
  "kernelspec": {
   "display_name": "Python 3 (ipykernel)",
   "language": "python",
   "name": "python3"
  },
  "language_info": {
   "codemirror_mode": {
    "name": "ipython",
    "version": 3
   },
   "file_extension": ".py",
   "mimetype": "text/x-python",
   "name": "python",
   "nbconvert_exporter": "python",
   "pygments_lexer": "ipython3",
   "version": "3.10.1"
  }
 },
 "nbformat": 4,
 "nbformat_minor": 4
}
