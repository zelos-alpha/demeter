{
 "cells": [
  {
   "cell_type": "markdown",
   "metadata": {
    "collapsed": false,
    "jupyter": {
     "outputs_hidden": false
    }
   },
   "source": [
    "# No Provision\n",
    "\n",
    "In this strategy, half of the portfolio is in token zero, and the other half is in token one. The assets will not be deposited in any pool. This simple strategy is a good benchmark because it shows how much the value of the tokens increased. Since no liquidity was provided, there is no impermanent loss of earned fees. This strategy will be our reference strategy, which we will take as a baseline."
   ]
  },
  {
   "cell_type": "markdown",
   "metadata": {
    "collapsed": false,
    "jupyter": {
     "outputs_hidden": false
    }
   },
   "source": [
    "Import code dependencies"
   ]
  },
  {
   "cell_type": "code",
   "metadata": {
    "collapsed": false,
    "jupyter": {
     "outputs_hidden": false
    },
    "ExecuteTime": {
     "end_time": "2024-07-22T08:10:08.302599Z",
     "start_time": "2024-07-22T08:10:08.298746Z"
    }
   },
   "source": [
    "from datetime import date, datetime\n",
    "import pandas as pd\n",
    "\n",
    "from demeter import TokenInfo, Actuator, Strategy, RowData, ChainType, MarketInfo, AtTimeTrigger\n",
    "from demeter.result import performance_metrics, round_results\n",
    "from demeter.uniswap import UniV3Pool, UniLpMarket"
   ],
   "execution_count": 16,
   "outputs": []
  },
  {
   "cell_type": "markdown",
   "metadata": {
    "collapsed": false,
    "jupyter": {
     "outputs_hidden": false
    }
   },
   "source": [
    "Set pandas output format"
   ]
  },
  {
   "cell_type": "code",
   "metadata": {
    "collapsed": false,
    "jupyter": {
     "outputs_hidden": false
    },
    "ExecuteTime": {
     "end_time": "2024-07-22T08:10:08.325812Z",
     "start_time": "2024-07-22T08:10:08.322301Z"
    }
   },
   "source": [
    "pd.options.display.max_columns = None\n",
    "pd.set_option(\"display.width\", 5000)"
   ],
   "execution_count": 17,
   "outputs": []
  },
  {
   "cell_type": "markdown",
   "metadata": {
    "collapsed": false,
    "jupyter": {
     "outputs_hidden": false
    }
   },
   "source": [
    "Custom No Provision strategy with nothing in work function."
   ]
  },
  {
   "cell_type": "code",
   "metadata": {
    "collapsed": false,
    "jupyter": {
     "outputs_hidden": false
    },
    "ExecuteTime": {
     "end_time": "2024-07-22T08:10:08.348513Z",
     "start_time": "2024-07-22T08:10:08.343063Z"
    }
   },
   "source": [
    "class NoProvisionStrategy(Strategy):\n",
    "    def initialize(self):\n",
    "        \"\"\"\n",
    "        Initialize function will be called right before a backtest start.\n",
    "        You can do various things here, e.g. register a trigger, or add a simple moving average line.\n",
    "        \"\"\"\n",
    "        new_trigger = AtTimeTrigger(  # define a new trigger\n",
    "            time=datetime(2022, 8, 20, 12, 0, 0), do=self.work  # we will make the action happen at 12:00 20/8/22\n",
    "        )  # This is a callback function, defines what to do at this time.\n",
    "        self.triggers.append(new_trigger)  # Register our trigger\n",
    "\n",
    "    def work(self, row_data: RowData):\n",
    "        \"\"\"\n",
    "        When time is up, work function will be called.\n",
    "        \"\"\"\n",
    "        pass"
   ],
   "execution_count": 18,
   "outputs": []
  },
  {
   "cell_type": "markdown",
   "metadata": {
    "collapsed": false,
    "jupyter": {
     "outputs_hidden": false
    }
   },
   "source": [
    "Main logic to run Actuator"
   ]
  },
  {
   "cell_type": "code",
   "metadata": {
    "collapsed": false,
    "jupyter": {
     "outputs_hidden": false
    },
    "ExecuteTime": {
     "end_time": "2024-07-22T08:10:08.426290Z",
     "start_time": "2024-07-22T08:10:08.363524Z"
    }
   },
   "source": [
    "# Declare a token, and it's name will be used as unit of amounts.\n",
    "usdc = TokenInfo(name=\"usdc\", decimal=6)  # declare token usdc\n",
    "eth = TokenInfo(name=\"eth\", decimal=18)  # declare token eth\n",
    "# Declare an Uniswap V3 pool. We will set the parameters according to the real pool on chain.\n",
    "pool = UniV3Pool(token0=usdc, token1=eth, fee=0.05, quote_token=usdc)\n",
    "\n",
    "# Declare a market key, which will be used to find the corresponding market in broker\n",
    "market_key = MarketInfo(\"market1\")\n",
    "# Declare the market,\n",
    "market = UniLpMarket(market_key, pool)  # uni_market:UniLpMarket, positions: 0, total liquidity: 0\n",
    "# load data for market. those data is prepared by download tool\n",
    "market.data_path = \"../data\"  # set data path\n",
    "market.load_data(\n",
    "    chain=ChainType.polygon.name,  # load data\n",
    "    contract_addr=\"0x45dda9cb7c25131df268515131f647d726f50608\",\n",
    "    start_date=date(2023, 8, 15),\n",
    "    end_date=date(2023, 8, 15),\n",
    ")\n",
    "\n",
    "# Declare the Actuator, which controls the whole process\n",
    "actuator = Actuator()  # declare actuator, Demeter Actuator (broker:assets: ; markets: )\n",
    "# add market to broker\n",
    "actuator.broker.add_market(market)\n",
    "# Initial some fund to broker.\n",
    "actuator.broker.set_balance(usdc, 10000)\n",
    "actuator.broker.set_balance(eth, 10)\n",
    "# Set strategy to actuator\n",
    "actuator.strategy = NoProvisionStrategy()  # set strategy to actuator\n",
    "# Set price. Those price will be used in all markets.\n",
    "# Usually, you will have to find the price list from outer source.\n",
    "# Luckily, uniswap pool data contains price information. So UniLpMarket provides a function to retrieve price list.\n",
    "actuator.set_price(market.get_price_from_data())\n",
    "# run test, If you use default parameter, final fund status will be printed in console.\n",
    "\n",
    "# actuator.run()"
   ],
   "execution_count": 19,
   "outputs": []
  },
  {
   "cell_type": "markdown",
   "metadata": {
    "collapsed": false,
    "jupyter": {
     "outputs_hidden": false
    }
   },
   "source": [
    "Run actuator with evaluators and save result to files"
   ]
  },
  {
   "metadata": {
    "ExecuteTime": {
     "end_time": "2024-10-16T08:03:02.313052Z",
     "start_time": "2024-10-16T08:03:02.015445Z"
    }
   },
   "cell_type": "code",
   "source": [
    "actuator.run()\n",
    "print(round_results(performance_metrics(actuator.account_status_df[\"net_value\"], benchmark=actuator.account_status_df[\"price\"][\"ETH\"])))\n",
    "\n",
    "actuator.save_result(\n",
    "    path=\"./result\",  # save path\n",
    "    account=True,  # save account status list as a csv file\n",
    "    actions=True,  # save actions as a json file and a pickle file\n",
    ")"
   ],
   "outputs": [
    {
     "ename": "NameError",
     "evalue": "name 'actuator' is not defined",
     "output_type": "error",
     "traceback": [
      "\u001B[1;31m---------------------------------------------------------------------------\u001B[0m",
      "\u001B[1;31mNameError\u001B[0m                                 Traceback (most recent call last)",
      "Cell \u001B[1;32mIn[1], line 1\u001B[0m\n\u001B[1;32m----> 1\u001B[0m \u001B[43mactuator\u001B[49m\u001B[38;5;241m.\u001B[39mrun()\n\u001B[0;32m      2\u001B[0m \u001B[38;5;28mprint\u001B[39m(\n\u001B[0;32m      3\u001B[0m     performance_metrics(actuator\u001B[38;5;241m.\u001B[39maccount_status_df[\u001B[38;5;124m\"\u001B[39m\u001B[38;5;124mnet_value\u001B[39m\u001B[38;5;124m\"\u001B[39m], benchmark\u001B[38;5;241m=\u001B[39mactuator\u001B[38;5;241m.\u001B[39maccount_status_df[\u001B[38;5;124m\"\u001B[39m\u001B[38;5;124mprice\u001B[39m\u001B[38;5;124m\"\u001B[39m][\u001B[38;5;124m\"\u001B[39m\u001B[38;5;124mETH\u001B[39m\u001B[38;5;124m\"\u001B[39m]))\n\u001B[0;32m      5\u001B[0m actuator\u001B[38;5;241m.\u001B[39msave_result(\n\u001B[0;32m      6\u001B[0m     path\u001B[38;5;241m=\u001B[39m\u001B[38;5;124m\"\u001B[39m\u001B[38;5;124m./result\u001B[39m\u001B[38;5;124m\"\u001B[39m,  \u001B[38;5;66;03m# save path\u001B[39;00m\n\u001B[0;32m      7\u001B[0m     account\u001B[38;5;241m=\u001B[39m\u001B[38;5;28;01mTrue\u001B[39;00m,  \u001B[38;5;66;03m# save account status list as a csv file\u001B[39;00m\n\u001B[0;32m      8\u001B[0m     actions\u001B[38;5;241m=\u001B[39m\u001B[38;5;28;01mTrue\u001B[39;00m,  \u001B[38;5;66;03m# save actions as a json file and a pickle file\u001B[39;00m\n\u001B[0;32m      9\u001B[0m )\n",
      "\u001B[1;31mNameError\u001B[0m: name 'actuator' is not defined"
     ]
    }
   ],
   "execution_count": 1
  },
  {
   "metadata": {},
   "cell_type": "markdown",
   "source": ""
  }
 ],
 "metadata": {
  "kernelspec": {
   "display_name": "Python 3 (ipykernel)",
   "language": "python",
   "name": "python3"
  },
  "language_info": {
   "codemirror_mode": {
    "name": "ipython",
    "version": 3
   },
   "file_extension": ".py",
   "mimetype": "text/x-python",
   "name": "python",
   "nbconvert_exporter": "python",
   "pygments_lexer": "ipython3",
   "version": "3.10.1"
  }
 },
 "nbformat": 4,
 "nbformat_minor": 4
}
