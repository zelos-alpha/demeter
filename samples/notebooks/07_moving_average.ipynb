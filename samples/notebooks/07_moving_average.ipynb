{
 "cells": [
  {
   "cell_type": "markdown",
   "source": [
    "# Moving Average\n",
    "This strategy does not look at the current price but instead at the moving average of the price pa. We will consider different time intervals for calculating the moving average: two hours, six hours, one day, seven days, 30 days, 100 days, and 200 days. The liquidity position of this strategy will be [pa − a, pa + a]. As in the constant interval strategy 4.3, the leftover token will not be used to provide any liquidity."
   ],
   "metadata": {
    "collapsed": false
   }
  },
  {
   "cell_type": "markdown",
   "source": [
    "Import code dependencies"
   ],
   "metadata": {
    "collapsed": false
   }
  },
  {
   "cell_type": "code",
   "source": [
    "import math\n",
    "from datetime import date, timedelta\n",
    "\n",
    "import pandas as pd\n",
    "\n",
    "from demeter import TokenInfo, Actuator, Strategy, RowData, simple_moving_average, ChainType, MarketInfo, PeriodTrigger, \\\n",
    "    BaseAction\n",
    "from demeter.result import performance_metrics, round_results\n",
    "from demeter.uniswap import UniV3Pool, UniLpMarket"
   ],
   "metadata": {
    "collapsed": false,
    "ExecuteTime": {
     "end_time": "2024-07-22T09:35:15.443774Z",
     "start_time": "2024-07-22T09:35:14.467899Z"
    }
   },
   "execution_count": 1,
   "outputs": []
  },
  {
   "cell_type": "markdown",
   "source": [
    "Set pandas output format"
   ],
   "metadata": {
    "collapsed": false
   }
  },
  {
   "cell_type": "code",
   "source": [
    "pd.options.display.max_columns = None\n",
    "pd.set_option(\"display.width\", 5000)"
   ],
   "metadata": {
    "collapsed": false,
    "ExecuteTime": {
     "end_time": "2024-07-22T09:35:15.453073Z",
     "start_time": "2024-07-22T09:35:15.445800Z"
    }
   },
   "execution_count": 2,
   "outputs": []
  },
  {
   "cell_type": "markdown",
   "source": [
    "Custom Moving Average strategy with code to add liquidity at window's average price."
   ],
   "metadata": {
    "collapsed": false
   }
  },
  {
   "cell_type": "code",
   "source": [
    "class MovingAverageStrategy(Strategy):\n",
    "\n",
    "    def initialize(self):\n",
    "        \"\"\"\n",
    "        This function is called before main loop is executed.\n",
    "        you can prepare data, or register trigger here\n",
    "        \"\"\"\n",
    "\n",
    "        # Add a simple moving average line for backtesting data. In backtesting,\n",
    "        # we will add/remove liquidity according to this line.\n",
    "        self.add_column(market_key, \"sma\", simple_moving_average(self.data[market_key].price, window=timedelta(hours=1)))\n",
    "        self.net_value_before_bar = 0\n",
    "        self.net_value_diff_list = []\n",
    "        # Register a trigger, every day, we split both assets into two shares of equal value\n",
    "        self.triggers.append(PeriodTrigger(time_delta=timedelta(days=1), trigger_immediately=True, do=self.rebalance))\n",
    "\n",
    "    def rebalance(self, row_data: RowData):\n",
    "        self.markets[market_key].even_rebalance(row_data.market_status[market_key].price)\n",
    "\n",
    "    \"\"\"\n",
    "    After a test is executed, actuator will loop the data, and bar series functions will be called on every time.\n",
    "    Here you can set conditions and execute liquidity operations\n",
    "    \"\"\"\n",
    "\n",
    "    def on_bar(self, row_data: RowData):\n",
    "        \"\"\"\n",
    "        This function is called after trigger, but before market is updated(Fees will be distributed in this step).\n",
    "        \"\"\"\n",
    "        lp_market: UniLpMarket = self.markets[market_key]\n",
    "        current_price = row_data.market_status[market_key].price\n",
    "        # get moving average price, if value is nan, fill it with current price\n",
    "        ma_price = self.data[market_key].loc[row_data.timestamp][\"sma\"]\n",
    "        ma_price = row_data.market_status[market_key].price if math.isnan(ma_price) else ma_price\n",
    "\n",
    "        # this is a nonsense strategy, just to show how to trigger actions\n",
    "        if row_data.market_status[market_key].price > ma_price + 25 and len(self.markets[market_key].positions) < 1:\n",
    "            lp_market.remove_all_liquidity()\n",
    "            lp_market.add_liquidity(current_price, current_price + 100)\n",
    "        elif row_data.market_status[market_key].price < ma_price - 25 and len(self.markets[market_key].positions) < 1:\n",
    "            lp_market.remove_all_liquidity()\n",
    "            lp_market.add_liquidity(current_price - 100, current_price)\n",
    "\n",
    "    def after_bar(self, row_data: RowData):\n",
    "        \"\"\"\n",
    "        this function is called after market has updated.\n",
    "        \"\"\"\n",
    "        timestamp = row_data.timestamp\n",
    "        net_value_after_bar = self.broker.get_account_status(self.prices.loc[timestamp]).net_value\n",
    "        net_value_diff = net_value_after_bar - self.net_value_before_bar\n",
    "        self.net_value_diff_list.append(net_value_diff)\n",
    "\n",
    "    def finalize(self):\n",
    "        \"\"\"\n",
    "        Call when main loop finished. some statistic work can be executed here\n",
    "        \"\"\"\n",
    "        self.data[market_key][\"diff\"] = self.net_value_diff_list\n",
    "        pass\n",
    "\n",
    "    def notify(self, action: BaseAction):\n",
    "        \"\"\"\n",
    "        When a new action(add/remove liquidity) is executed, you can be notified by this call back.\n",
    "        \"\"\"\n",
    "        print(\"\\n\")\n",
    "        print(action.timestamp, action.action_type.value)"
   ],
   "metadata": {
    "collapsed": false,
    "ExecuteTime": {
     "end_time": "2024-07-22T09:35:15.470783Z",
     "start_time": "2024-07-22T09:35:15.455105Z"
    }
   },
   "execution_count": 3,
   "outputs": []
  },
  {
   "cell_type": "markdown",
   "source": [
    "Main logic to run Actuator, init two token and market with key \"market1\""
   ],
   "metadata": {
    "collapsed": false
   }
  },
  {
   "cell_type": "code",
   "source": [
    "usdc = TokenInfo(name=\"usdc\", decimal=6)  # TokenInfo(name='usdc', decimal=6)\n",
    "eth = TokenInfo(name=\"eth\", decimal=18)  # TokenInfo(name='eth', decimal=18)\n",
    "pool = UniV3Pool(\n",
    "    usdc, eth, 0.05, usdc\n",
    ")  # PoolBaseInfo(Token0: TokenInfo(name='usdc', decimal=6),Token1: TokenInfo(name='eth', decimal=18),fee: 0.0500,base token: usdc)\n",
    "\n",
    "market_key = MarketInfo(\"market1\")  # market1\n",
    "market = UniLpMarket(market_key, pool)\n",
    "market.data_path = \"../data\"\n",
    "market.load_data(ChainType.polygon.name, \"0x45dda9cb7c25131df268515131f647d726f50608\", date(2023, 8, 15), date(2023, 8, 15))\n",
    "\n",
    "actuator = Actuator()  # init actuator\n",
    "actuator.broker.add_market(market)  # add market to actuator\n",
    "actuator.broker.set_balance(usdc, 10000)  # set balance\n",
    "actuator.broker.set_balance(eth, 10)  # set balance\n",
    "actuator.strategy = MovingAverageStrategy()  # set strategy\n",
    "actuator.set_price(market.get_price_from_data())  # set actuator price\n",
    "\n",
    "# actuator.run()  # run actuator"
   ],
   "metadata": {
    "collapsed": false,
    "ExecuteTime": {
     "end_time": "2024-07-22T09:35:15.556766Z",
     "start_time": "2024-07-22T09:35:15.473805Z"
    }
   },
   "execution_count": 4,
   "outputs": []
  },
  {
   "cell_type": "markdown",
   "source": [
    "Run actuator with evaluators and save result to files"
   ],
   "metadata": {
    "collapsed": false
   }
  },
  {
   "cell_type": "code",
   "source": [
    "actuator.run()\n",
    "print(round_results(performance_metrics(actuator.account_status_df[\"net_value\"], benchmark=actuator.account_status_df[\"price\"][\"ETH\"])))\n",
    "\n",
    "\n",
    "actuator.save_result(\n",
    "    path=\"./result\",  # save path\n",
    "    account=True,  # save account status list as a csv file\n",
    "    actions=True,  # save actions as a json file and a pickle file\n",
    ")"
   ],
   "metadata": {
    "collapsed": false,
    "ExecuteTime": {
     "end_time": "2024-07-22T09:35:16.759826Z",
     "start_time": "2024-07-22T09:35:15.558788Z"
    }
   },
   "execution_count": 5,
   "outputs": []
  }
 ],
 "metadata": {
  "kernelspec": {
   "display_name": "Python 3",
   "language": "python",
   "name": "python3"
  },
  "language_info": {
   "codemirror_mode": {
    "name": "ipython",
    "version": 2
   },
   "file_extension": ".py",
   "mimetype": "text/x-python",
   "name": "python",
   "nbconvert_exporter": "python",
   "pygments_lexer": "ipython2",
   "version": "2.7.6"
  }
 },
 "nbformat": 4,
 "nbformat_minor": 0
}
