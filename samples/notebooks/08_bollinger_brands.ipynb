{
 "cells": [
  {
   "cell_type": "markdown",
   "metadata": {
    "collapsed": false,
    "jupyter": {
     "outputs_hidden": false
    }
   },
   "source": [
    "# Bollinger Bands\n",
    "This strategy combines the moving average strategy 4.9 and the volatility sized intervals strategy 4.10. We will provide liquidity inside the Bollinger Bands. These bands are made up of a lower band BOLL = pa −c·v and an upper band BOLU = pa +c·v. The liquidity position will be [pa −v·c,pa +v·c]. This strategy also has an unused leftover token."
   ]
  },
  {
   "cell_type": "markdown",
   "metadata": {
    "collapsed": false,
    "jupyter": {
     "outputs_hidden": false
    }
   },
   "source": [
    "Import code dependencies"
   ]
  },
  {
   "cell_type": "code",
   "metadata": {
    "collapsed": false,
    "jupyter": {
     "outputs_hidden": false
    },
    "ExecuteTime": {
     "end_time": "2024-07-22T09:36:28.605660Z",
     "start_time": "2024-07-22T09:36:27.703540Z"
    }
   },
   "source": [
    "import math\n",
    "from datetime import date, timedelta\n",
    "\n",
    "import pandas as pd\n",
    "\n",
    "from demeter import (\n",
    "    TokenInfo,\n",
    "    Actuator,\n",
    "    Strategy,\n",
    "    ChainType,\n",
    "    PeriodTrigger,\n",
    "    realized_volatility,\n",
    "    simple_moving_average,\n",
    "    MarketInfo,\n",
    "    RowData,\n",
    ")\n",
    "from demeter.result import performance_metrics, round_results\n",
    "from demeter.uniswap import UniV3Pool, UniLpMarket"
   ],
   "execution_count": 1,
   "outputs": []
  },
  {
   "cell_type": "markdown",
   "metadata": {
    "collapsed": false,
    "jupyter": {
     "outputs_hidden": false
    }
   },
   "source": [
    "Set pandas output format and const variables."
   ]
  },
  {
   "cell_type": "code",
   "metadata": {
    "collapsed": false,
    "jupyter": {
     "outputs_hidden": false
    },
    "ExecuteTime": {
     "end_time": "2024-07-22T09:36:28.615821Z",
     "start_time": "2024-07-22T09:36:28.608707Z"
    }
   },
   "source": [
    "pd.options.display.max_columns = None\n",
    "pd.set_option(\"display.width\", 5000)\n",
    "c = 2"
   ],
   "execution_count": 2,
   "outputs": []
  },
  {
   "cell_type": "markdown",
   "metadata": {
    "collapsed": false,
    "jupyter": {
     "outputs_hidden": false
    }
   },
   "source": [
    "Custom Add By Volatility strategy with code to add liquidity price at around one day bollinger bands."
   ]
  },
  {
   "cell_type": "code",
   "metadata": {
    "collapsed": false,
    "jupyter": {
     "outputs_hidden": false
    },
    "ExecuteTime": {
     "end_time": "2024-07-22T09:36:28.640535Z",
     "start_time": "2024-07-22T09:36:28.618527Z"
    }
   },
   "source": [
    "class AddByVolatilityStrategy(Strategy):\n",
    "    \"\"\"\n",
    "    We will provide liquidity inside the Bollinger Bands.\n",
    "    These bands are made up of a lower band BOLL = pa − c · v\n",
    "    and an upper band BOLU = pa + c · v.\n",
    "    The liquidity get_position will be [pa − v · c, pa + v · c].\n",
    "\n",
    "    * pa is simple moving average\n",
    "    * c is a constant value, =2\n",
    "    * v is volatility\n",
    "\n",
    "    we will adjust liquidity every 4 hours, by remove all the liquidity, then even split all the capital into two assets,\n",
    "    and provide liquidity by the rules above.\n",
    "\n",
    "    \"\"\"\n",
    "\n",
    "    def initialize(self):\n",
    "        self.add_column(market_key, \"sma_1_day\", simple_moving_average(self.data[market_key].price, timedelta(days=1)))\n",
    "        self.add_column(market_key, \"volatility\", realized_volatility(self.data[market_key].price, timedelta(days=1), timedelta(days=1)))\n",
    "        self.triggers.append(PeriodTrigger(time_delta=timedelta(hours=4), trigger_immediately=True, do=self.work))\n",
    "        self.markets.default.even_rebalance(self.data[market_key].price[0])\n",
    "\n",
    "    def work(self, row_data: RowData):\n",
    "        lp_market: UniLpMarket = self.broker.markets[market_key]\n",
    "        lp_row_data = row_data.market_status[market_key]\n",
    "        if len(lp_market.positions) > 0:\n",
    "            lp_market.remove_all_liquidity()\n",
    "            lp_market.even_rebalance(row_data.prices[eth.name])\n",
    "        if math.isnan(lp_row_data.volatility):\n",
    "            return\n",
    "        limit = c * float(row_data.prices[eth.name]) * lp_row_data.volatility\n",
    "        lp_market.add_liquidity(lp_row_data.sma_1_day - limit, lp_row_data.sma_1_day + limit)\n"
   ],
   "execution_count": 3,
   "outputs": []
  },
  {
   "cell_type": "markdown",
   "metadata": {
    "collapsed": false,
    "jupyter": {
     "outputs_hidden": false
    }
   },
   "source": [
    "Main logic to run Actuator, init two token and market with key \"market1\""
   ]
  },
  {
   "cell_type": "code",
   "metadata": {
    "collapsed": false,
    "jupyter": {
     "outputs_hidden": false
    },
    "ExecuteTime": {
     "end_time": "2024-07-22T09:36:29.075548Z",
     "start_time": "2024-07-22T09:36:28.643581Z"
    }
   },
   "source": [
    "usdc = TokenInfo(name=\"usdc\", decimal=6)  # declare  token0\n",
    "eth = TokenInfo(name=\"eth\", decimal=18)  # declare token1\n",
    "pool = UniV3Pool(usdc, eth, 0.05, usdc)  # declare pool\n",
    "market_key = MarketInfo(\"market1\")\n",
    "\n",
    "actuator = Actuator()  # declare actuator\n",
    "broker = actuator.broker\n",
    "market = UniLpMarket(market_key, pool)\n",
    "\n",
    "broker.add_market(market)\n",
    "broker.set_balance(usdc, 5000)\n",
    "broker.set_balance(eth, 0)\n",
    "\n",
    "actuator.strategy = AddByVolatilityStrategy()\n",
    "\n",
    "market.data_path = \"../data\"\n",
    "market.load_data(ChainType.polygon.name, \"0x45dda9cb7c25131df268515131f647d726f50608\", date(2023, 8, 13), date(2023, 8, 17))\n",
    "actuator.set_price(market.get_price_from_data())\n",
    "# actuator.run()  # run test"
   ],
   "execution_count": 4,
   "outputs": []
  },
  {
   "cell_type": "markdown",
   "metadata": {
    "collapsed": false,
    "jupyter": {
     "outputs_hidden": false
    }
   },
   "source": [
    "Run actuator with evaluators and save result to files"
   ]
  },
  {
   "cell_type": "code",
   "metadata": {
    "collapsed": false,
    "jupyter": {
     "outputs_hidden": false
    },
    "ExecuteTime": {
     "end_time": "2024-07-22T09:36:33.885968Z",
     "start_time": "2024-07-22T09:36:29.078595Z"
    }
   },
   "source": [
    "actuator.run()\n",
    "print(round_results(performance_metrics(actuator.account_status_df[\"net_value\"], benchmark=actuator.account_status_df[\"price\"][\"ETH\"])))\n",
    "\n",
    "\n",
    "actuator.save_result(\n",
    "    path=\"./result\",  # save path\n",
    "    account=True,  # save account status list as a csv file\n",
    "    actions=True,  # save actions as a json file and a pickle file\n",
    ")"
   ],
   "execution_count": 5,
   "outputs": []
  }
 ],
 "metadata": {
  "kernelspec": {
   "display_name": "Python 3 (ipykernel)",
   "language": "python",
   "name": "python3"
  },
  "language_info": {
   "codemirror_mode": {
    "name": "ipython",
    "version": 3
   },
   "file_extension": ".py",
   "mimetype": "text/x-python",
   "name": "python",
   "nbconvert_exporter": "python",
   "pygments_lexer": "ipython3",
   "version": "3.10.1"
  }
 },
 "nbformat": 4,
 "nbformat_minor": 4
}
